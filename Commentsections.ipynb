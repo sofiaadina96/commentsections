{
  "nbformat": 4,
  "nbformat_minor": 0,
  "metadata": {
    "colab": {
      "provenance": [],
      "mount_file_id": "1rX7kT3Ls_-q6DNMmDcaSRU_0aim7XW0y",
      "authorship_tag": "ABX9TyPMYPzO+74PqT4PtoWkRAHz",
      "include_colab_link": true
    },
    "kernelspec": {
      "name": "python3",
      "display_name": "Python 3"
    },
    "language_info": {
      "name": "python"
    }
  },
  "cells": [
    {
      "cell_type": "markdown",
      "metadata": {
        "id": "view-in-github",
        "colab_type": "text"
      },
      "source": [
        "<a href=\"https://colab.research.google.com/github/sofiaadina96/commentsections/blob/main/Commentsections.ipynb\" target=\"_parent\"><img src=\"https://colab.research.google.com/assets/colab-badge.svg\" alt=\"Open In Colab\"/></a>"
      ]
    },
    {
      "cell_type": "code",
      "source": [
        "from matplotlib import pyplot as plt\n",
        "import pandas as pd\n",
        "import seaborn as sns"
      ],
      "metadata": {
        "id": "OA2YAKHULlnm"
      },
      "execution_count": 1,
      "outputs": []
    },
    {
      "cell_type": "code",
      "source": [
        "# Load the dataset\n",
        "df = pd.read_excel('/content/drive/MyDrive/Colab Notebooks/commentsectionsdata.xlsx')"
      ],
      "metadata": {
        "id": "ErdTtCriL_zB"
      },
      "execution_count": 2,
      "outputs": []
    },
    {
      "cell_type": "code",
      "source": [
        "#plt.plot(x,y)\n",
        "plt.xlabel('Gender')\n",
        "plt.ylabel('Comments')\n",
        "plt.title('Positive comments gender distribution')\n",
        "\n",
        "# Create crosstabulation for negative comments and gender\n",
        "crosstab = pd.crosstab(df['gender'], df['sentiment'])\n",
        "\n",
        "# color palette for bars\n",
        "colors = ['#3366FF', '#33FF57', '#FF79B9']\n",
        "\n",
        "# visualize the results\n",
        "sns.barplot(data=crosstab, x=crosstab.index, y='p', estimator=lambda x: sum(x) / len(df), palette=colors)\n",
        "\n",
        "\n",
        "plt.show()"
      ],
      "metadata": {
        "colab": {
          "base_uri": "https://localhost:8080/",
          "height": 579
        },
        "id": "3fRqfjQ_MaaY",
        "outputId": "bd79fff4-770d-40b0-96b0-bb88b516d121"
      },
      "execution_count": 3,
      "outputs": [
        {
          "output_type": "stream",
          "name": "stderr",
          "text": [
            "<ipython-input-3-c1d8a437e8cd>:13: FutureWarning: \n",
            "\n",
            "Passing `palette` without assigning `hue` is deprecated and will be removed in v0.14.0. Assign the `x` variable to `hue` and set `legend=False` for the same effect.\n",
            "\n",
            "  sns.barplot(data=crosstab, x=crosstab.index, y='p', estimator=lambda x: sum(x) / len(df), palette=colors)\n"
          ]
        },
        {
          "output_type": "display_data",
          "data": {
            "text/plain": [
              "<Figure size 640x480 with 1 Axes>"
            ],
            "image/png": "[encoded data removed]"
          },
          "metadata": {}
        }
      ]
    },
    {
      "cell_type": "code",
      "source": [
        "df"
      ],
      "metadata": {
        "colab": {
          "base_uri": "https://localhost:8080/",
          "height": 423
        },
        "id": "BWjzxDLKaUG_",
        "outputId": "21b83a15-0c87-4fbf-c72c-eef73e536785"
      },
      "execution_count": 4,
      "outputs": [
        {
          "output_type": "execute_result",
          "data": {
            "text/plain": [
              "                      username  \\\n",
              "0                   k.caune_15   \n",
              "1               rebel_pburgess   \n",
              "2                    e_brown__   \n",
              "3                       _swabu   \n",
              "4                   777__media   \n",
              "..                         ...   \n",
              "537  halfthewoman_i_used_to_be   \n",
              "538            anthonyfield_19   \n",
              "539          duckduckgoose1984   \n",
              "540         certified_cisneros   \n",
              "541           staymad_lilnigga   \n",
              "\n",
              "                                               comment sentiment  followers  \\\n",
              "0    I eat a whole pizza, wings, fries 4 sauces and...         n         13   \n",
              "1                                                    🤮         n        145   \n",
              "2            What are you eating? A whole fucking cow?         n        162   \n",
              "3                                           Not a flex         n         58   \n",
              "4                                        No it’s not 💀         n      48000   \n",
              "..                                                 ...       ...        ...   \n",
              "537  The most important weight you'll ever need to ...         p         18   \n",
              "538                                       omg marry me         x        394   \n",
              "539  She looks so amazing in “Recovery,” green is h...         x        298   \n",
              "540  Comments boutta be a bigger slaughter than the...         x       1719   \n",
              "541                       Yo when the OF dropping⁉️⁉️👀         x          5   \n",
              "\n",
              "     gender  \n",
              "0      -1.0  \n",
              "1      -1.0  \n",
              "2      -1.0  \n",
              "3       0.0  \n",
              "4       1.0  \n",
              "..      ...  \n",
              "537     1.0  \n",
              "538    -1.0  \n",
              "539    -1.0  \n",
              "540    -1.0  \n",
              "541    -1.0  \n",
              "\n",
              "[542 rows x 5 columns]"
            ],
            "text/html": [
              "\n",
              "  <div id=\"df-de9ccb9d-c906-45d4-8171-c612fec8d3b8\" class=\"colab-df-container\">\n",
              "    <div>\n",
              "<style scoped>\n",
              "    .dataframe tbody tr th:only-of-type {\n",
              "        vertical-align: middle;\n",
              "    }\n",
              "\n",
              "    .dataframe tbody tr th {\n",
              "        vertical-align: top;\n",
              "    }\n",
              "\n",
              "    .dataframe thead th {\n",
              "        text-align: right;\n",
              "    }\n",
              "</style>\n",
              "<table border=\"1\" class=\"dataframe\">\n",
              "  <thead>\n",
              "    <tr style=\"text-align: right;\">\n",
              "      <th></th>\n",
              "      <th>username</th>\n",
              "      <th>comment</th>\n",
              "      <th>sentiment</th>\n",
              "      <th>followers</th>\n",
              "      <th>gender</th>\n",
              "    </tr>\n",
              "  </thead>\n",
              "  <tbody>\n",
              "    <tr>\n",
              "      <th>0</th>\n",
              "      <td>k.caune_15</td>\n",
              "      <td>I eat a whole pizza, wings, fries 4 sauces and...</td>\n",
              "      <td>n</td>\n",
              "      <td>13</td>\n",
              "      <td>-1.0</td>\n",
              "    </tr>\n",
              "    <tr>\n",
              "      <th>1</th>\n",
              "      <td>rebel_pburgess</td>\n",
              "      <td>🤮</td>\n",
              "      <td>n</td>\n",
              "      <td>145</td>\n",
              "      <td>-1.0</td>\n",
              "    </tr>\n",
              "    <tr>\n",
              "      <th>2</th>\n",
              "      <td>e_brown__</td>\n",
              "      <td>What are you eating? A whole fucking cow?</td>\n",
              "      <td>n</td>\n",
              "      <td>162</td>\n",
              "      <td>-1.0</td>\n",
              "    </tr>\n",
              "    <tr>\n",
              "      <th>3</th>\n",
              "      <td>_swabu</td>\n",
              "      <td>Not a flex</td>\n",
              "      <td>n</td>\n",
              "      <td>58</td>\n",
              "      <td>0.0</td>\n",
              "    </tr>\n",
              "    <tr>\n",
              "      <th>4</th>\n",
              "      <td>777__media</td>\n",
              "      <td>No it’s not 💀</td>\n",
              "      <td>n</td>\n",
              "      <td>48000</td>\n",
              "      <td>1.0</td>\n",
              "    </tr>\n",
              "    <tr>\n",
              "      <th>...</th>\n",
              "      <td>...</td>\n",
              "      <td>...</td>\n",
              "      <td>...</td>\n",
              "      <td>...</td>\n",
              "      <td>...</td>\n",
              "    </tr>\n",
              "    <tr>\n",
              "      <th>537</th>\n",
              "      <td>halfthewoman_i_used_to_be</td>\n",
              "      <td>The most important weight you'll ever need to ...</td>\n",
              "      <td>p</td>\n",
              "      <td>18</td>\n",
              "      <td>1.0</td>\n",
              "    </tr>\n",
              "    <tr>\n",
              "      <th>538</th>\n",
              "      <td>anthonyfield_19</td>\n",
              "      <td>omg marry me</td>\n",
              "      <td>x</td>\n",
              "      <td>394</td>\n",
              "      <td>-1.0</td>\n",
              "    </tr>\n",
              "    <tr>\n",
              "      <th>539</th>\n",
              "      <td>duckduckgoose1984</td>\n",
              "      <td>She looks so amazing in “Recovery,” green is h...</td>\n",
              "      <td>x</td>\n",
              "      <td>298</td>\n",
              "      <td>-1.0</td>\n",
              "    </tr>\n",
              "    <tr>\n",
              "      <th>540</th>\n",
              "      <td>certified_cisneros</td>\n",
              "      <td>Comments boutta be a bigger slaughter than the...</td>\n",
              "      <td>x</td>\n",
              "      <td>1719</td>\n",
              "      <td>-1.0</td>\n",
              "    </tr>\n",
              "    <tr>\n",
              "      <th>541</th>\n",
              "      <td>staymad_lilnigga</td>\n",
              "      <td>Yo when the OF dropping⁉️⁉️👀</td>\n",
              "      <td>x</td>\n",
              "      <td>5</td>\n",
              "      <td>-1.0</td>\n",
              "    </tr>\n",
              "  </tbody>\n",
              "</table>\n",
              "<p>542 rows × 5 columns</p>\n",
              "</div>\n",
              "    <div class=\"colab-df-buttons\">\n",
              "\n",
              "  <div class=\"colab-df-container\">\n",
              "    <button class=\"colab-df-convert\" onclick=\"convertToInteractive('df-de9ccb9d-c906-45d4-8171-c612fec8d3b8')\"\n",
              "            title=\"Convert this dataframe to an interactive table.\"\n",
              "            style=\"display:none;\">\n",
              "\n",
              "  <svg xmlns=\"http://www.w3.org/2000/svg\" height=\"24px\" viewBox=\"0 -960 960 960\">\n",
              "    <path d=\"M120-120v-720h720v720H120Zm60-500h600v-160H180v160Zm220 220h160v-160H400v160Zm0 220h160v-160H400v160ZM180-400h160v-160H180v160Zm440 0h160v-160H620v160ZM180-180h160v-160H180v160Zm440 0h160v-160H620v160Z\"/>\n",
              "  </svg>\n",
              "    </button>\n",
              "\n",
              "  <style>\n",
              "    .colab-df-container {\n",
              "      display:flex;\n",
              "      gap: 12px;\n",
              "    }\n",
              "\n",
              "    .colab-df-convert {\n",
              "      background-color: #E8F0FE;\n",
              "      border: none;\n",
              "      border-radius: 50%;\n",
              "      cursor: pointer;\n",
              "      display: none;\n",
              "      fill: #1967D2;\n",
              "      height: 32px;\n",
              "      padding: 0 0 0 0;\n",
              "      width: 32px;\n",
              "    }\n",
              "\n",
              "    .colab-df-convert:hover {\n",
              "      background-color: #E2EBFA;\n",
              "      box-shadow: 0px 1px 2px rgba(60, 64, 67, 0.3), 0px 1px 3px 1px rgba(60, 64, 67, 0.15);\n",
              "      fill: #174EA6;\n",
              "    }\n",
              "\n",
              "    .colab-df-buttons div {\n",
              "      margin-bottom: 4px;\n",
              "    }\n",
              "\n",
              "    [theme=dark] .colab-df-convert {\n",
              "      background-color: #3B4455;\n",
              "      fill: #D2E3FC;\n",
              "    }\n",
              "\n",
              "    [theme=dark] .colab-df-convert:hover {\n",
              "      background-color: #434B5C;\n",
              "      box-shadow: 0px 1px 3px 1px rgba(0, 0, 0, 0.15);\n",
              "      filter: drop-shadow(0px 1px 2px rgba(0, 0, 0, 0.3));\n",
              "      fill: #FFFFFF;\n",
              "    }\n",
              "  </style>\n",
              "\n",
              "    <script>\n",
              "      const buttonEl =\n",
              "        document.querySelector('#df-de9ccb9d-c906-45d4-8171-c612fec8d3b8 button.colab-df-convert');\n",
              "      buttonEl.style.display =\n",
              "        google.colab.kernel.accessAllowed ? 'block' : 'none';\n",
              "\n",
              "      async function convertToInteractive(key) {\n",
              "        const element = document.querySelector('#df-de9ccb9d-c906-45d4-8171-c612fec8d3b8');\n",
              "        const dataTable =\n",
              "          await google.colab.kernel.invokeFunction('convertToInteractive',\n",
              "                                                    [key], {});\n",
              "        if (!dataTable) return;\n",
              "\n",
              "        const docLinkHtml = 'Like what you see? Visit the ' +\n",
              "          '<a target=\"_blank\" href=https://colab.research.google.com/notebooks/data_table.ipynb>data table notebook</a>'\n",
              "          + ' to learn more about interactive tables.';\n",
              "        element.innerHTML = '';\n",
              "        dataTable['output_type'] = 'display_data';\n",
              "        await google.colab.output.renderOutput(dataTable, element);\n",
              "        const docLink = document.createElement('div');\n",
              "        docLink.innerHTML = docLinkHtml;\n",
              "        element.appendChild(docLink);\n",
              "      }\n",
              "    </script>\n",
              "  </div>\n",
              "\n",
              "\n",
              "<div id=\"df-4f499339-78d3-4e51-8ce1-e9c78f6635fb\">\n",
              "  <button class=\"colab-df-quickchart\" onclick=\"quickchart('df-4f499339-78d3-4e51-8ce1-e9c78f6635fb')\"\n",
              "            title=\"Suggest charts\"\n",
              "            style=\"display:none;\">\n",
              "\n",
              "<svg xmlns=\"http://www.w3.org/2000/svg\" height=\"24px\"viewBox=\"0 0 24 24\"\n",
              "     width=\"24px\">\n",
              "    <g>\n",
              "        <path d=\"M19 3H5c-1.1 0-2 .9-2 2v14c0 1.1.9 2 2 2h14c1.1 0 2-.9 2-2V5c0-1.1-.9-2-2-2zM9 17H7v-7h2v7zm4 0h-2V7h2v10zm4 0h-2v-4h2v4z\"/>\n",
              "    </g>\n",
              "</svg>\n",
              "  </button>\n",
              "\n",
              "<style>\n",
              "  .colab-df-quickchart {\n",
              "      --bg-color: #E8F0FE;\n",
              "      --fill-color: #1967D2;\n",
              "      --hover-bg-color: #E2EBFA;\n",
              "      --hover-fill-color: #174EA6;\n",
              "      --disabled-fill-color: #AAA;\n",
              "      --disabled-bg-color: #DDD;\n",
              "  }\n",
              "\n",
              "  [theme=dark] .colab-df-quickchart {\n",
              "      --bg-color: #3B4455;\n",
              "      --fill-color: #D2E3FC;\n",
              "      --hover-bg-color: #434B5C;\n",
              "      --hover-fill-color: #FFFFFF;\n",
              "      --disabled-bg-color: #3B4455;\n",
              "      --disabled-fill-color: #666;\n",
              "  }\n",
              "\n",
              "  .colab-df-quickchart {\n",
              "    background-color: var(--bg-color);\n",
              "    border: none;\n",
              "    border-radius: 50%;\n",
              "    cursor: pointer;\n",
              "    display: none;\n",
              "    fill: var(--fill-color);\n",
              "    height: 32px;\n",
              "    padding: 0;\n",
              "    width: 32px;\n",
              "  }\n",
              "\n",
              "  .colab-df-quickchart:hover {\n",
              "    background-color: var(--hover-bg-color);\n",
              "    box-shadow: 0 1px 2px rgba(60, 64, 67, 0.3), 0 1px 3px 1px rgba(60, 64, 67, 0.15);\n",
              "    fill: var(--button-hover-fill-color);\n",
              "  }\n",
              "\n",
              "  .colab-df-quickchart-complete:disabled,\n",
              "  .colab-df-quickchart-complete:disabled:hover {\n",
              "    background-color: var(--disabled-bg-color);\n",
              "    fill: var(--disabled-fill-color);\n",
              "    box-shadow: none;\n",
              "  }\n",
              "\n",
              "  .colab-df-spinner {\n",
              "    border: 2px solid var(--fill-color);\n",
              "    border-color: transparent;\n",
              "    border-bottom-color: var(--fill-color);\n",
              "    animation:\n",
              "      spin 1s steps(1) infinite;\n",
              "  }\n",
              "\n",
              "  @keyframes spin {\n",
              "    0% {\n",
              "      border-color: transparent;\n",
              "      border-bottom-color: var(--fill-color);\n",
              "      border-left-color: var(--fill-color);\n",
              "    }\n",
              "    20% {\n",
              "      border-color: transparent;\n",
              "      border-left-color: var(--fill-color);\n",
              "      border-top-color: var(--fill-color);\n",
              "    }\n",
              "    30% {\n",
              "      border-color: transparent;\n",
              "      border-left-color: var(--fill-color);\n",
              "      border-top-color: var(--fill-color);\n",
              "      border-right-color: var(--fill-color);\n",
              "    }\n",
              "    40% {\n",
              "      border-color: transparent;\n",
              "      border-right-color: var(--fill-color);\n",
              "      border-top-color: var(--fill-color);\n",
              "    }\n",
              "    60% {\n",
              "      border-color: transparent;\n",
              "      border-right-color: var(--fill-color);\n",
              "    }\n",
              "    80% {\n",
              "      border-color: transparent;\n",
              "      border-right-color: var(--fill-color);\n",
              "      border-bottom-color: var(--fill-color);\n",
              "    }\n",
              "    90% {\n",
              "      border-color: transparent;\n",
              "      border-bottom-color: var(--fill-color);\n",
              "    }\n",
              "  }\n",
              "</style>\n",
              "\n",
              "  <script>\n",
              "    async function quickchart(key) {\n",
              "      const quickchartButtonEl =\n",
              "        document.querySelector('#' + key + ' button');\n",
              "      quickchartButtonEl.disabled = true;  // To prevent multiple clicks.\n",
              "      quickchartButtonEl.classList.add('colab-df-spinner');\n",
              "      try {\n",
              "        const charts = await google.colab.kernel.invokeFunction(\n",
              "            'suggestCharts', [key], {});\n",
              "      } catch (error) {\n",
              "        console.error('Error during call to suggestCharts:', error);\n",
              "      }\n",
              "      quickchartButtonEl.classList.remove('colab-df-spinner');\n",
              "      quickchartButtonEl.classList.add('colab-df-quickchart-complete');\n",
              "    }\n",
              "    (() => {\n",
              "      let quickchartButtonEl =\n",
              "        document.querySelector('#df-4f499339-78d3-4e51-8ce1-e9c78f6635fb button');\n",
              "      quickchartButtonEl.style.display =\n",
              "        google.colab.kernel.accessAllowed ? 'block' : 'none';\n",
              "    })();\n",
              "  </script>\n",
              "</div>\n",
              "    </div>\n",
              "  </div>\n"
            ],
            "application/vnd.google.colaboratory.intrinsic+json": {
              "type": "dataframe",
              "variable_name": "df",
              "summary": "{\n  \"name\": \"df\",\n  \"rows\": 542,\n  \"fields\": [\n    {\n      \"column\": \"username\",\n      \"properties\": {\n        \"dtype\": \"string\",\n        \"num_unique_values\": 534,\n        \"samples\": [\n          \"red_haired_ty\",\n          \"\\ncarol_clacino\",\n          \"\\nluvseamm\"\n        ],\n        \"semantic_type\": \"\",\n        \"description\": \"\"\n      }\n    },\n    {\n      \"column\": \"comment\",\n      \"properties\": {\n        \"dtype\": \"string\",\n        \"num_unique_values\": 526,\n        \"samples\": [\n          \"Hippo\",\n          \"Normalise stop trying to convince everyone that your physique is great because you lack the discipline and self respect to achieve a great physique.\",\n          \"definitely a slight case of retardation\"\n        ],\n        \"semantic_type\": \"\",\n        \"description\": \"\"\n      }\n    },\n    {\n      \"column\": \"sentiment\",\n      \"properties\": {\n        \"dtype\": \"category\",\n        \"num_unique_values\": 4,\n        \"samples\": [\n          \"p\",\n          \"p \",\n          \"n\"\n        ],\n        \"semantic_type\": \"\",\n        \"description\": \"\"\n      }\n    },\n    {\n      \"column\": \"followers\",\n      \"properties\": {\n        \"dtype\": \"number\",\n        \"std\": 150628,\n        \"min\": 0,\n        \"max\": 2800000,\n        \"num_unique_values\": 397,\n        \"samples\": [\n          131,\n          347,\n          1073\n        ],\n        \"semantic_type\": \"\",\n        \"description\": \"\"\n      }\n    },\n    {\n      \"column\": \"gender\",\n      \"properties\": {\n        \"dtype\": \"number\",\n        \"std\": 0.9132083422081166,\n        \"min\": -1.0,\n        \"max\": 1.0,\n        \"num_unique_values\": 3,\n        \"samples\": [\n          -1.0,\n          0.0,\n          1.0\n        ],\n        \"semantic_type\": \"\",\n        \"description\": \"\"\n      }\n    }\n  ]\n}"
            }
          },
          "metadata": {},
          "execution_count": 4
        }
      ]
    },
    {
      "source": [
        "from matplotlib import pyplot as plt\n",
        "import seaborn as sns\n",
        "\n",
        "# Removing whitespace from the 'sentiment' column ('p ' becomes 'p')\n",
        "df['sentiment'] = df['sentiment'].str.strip()\n",
        "\n",
        "# Custom color palette\n",
        "custom_palette = {'p': '#5fe053', 'x': '#f5e556', 'n': '#db281f'}\n",
        "\n",
        "# Plotting\n",
        "figsize = (12, 1.2 * len(df['sentiment'].unique()))\n",
        "plt.figure(figsize=figsize)\n",
        "sns.violinplot(data=df, x='gender', y='sentiment', inner='box', palette=custom_palette)\n",
        "sns.despine(top=True, right=True, bottom=True, left=True)\n",
        "plt.title(\"Sentiment vs Gender\")\n",
        "plt.xlabel(\"Gender\")\n",
        "plt.ylabel(\"Sentiment\")\n",
        "plt.show()"
      ],
      "cell_type": "code",
      "execution_count": 10,
      "outputs": [
        {
          "output_type": "stream",
          "name": "stderr",
          "text": [
            "<ipython-input-10-7e1ca9975a5a>:13: FutureWarning: \n",
            "\n",
            "Passing `palette` without assigning `hue` is deprecated and will be removed in v0.14.0. Assign the `y` variable to `hue` and set `legend=False` for the same effect.\n",
            "\n",
            "  sns.violinplot(data=df, x='gender', y='sentiment', inner='box', palette=custom_palette)\n"
          ]
        },
        {
          "output_type": "display_data",
          "data": {
            "text/plain": [
              "<Figure size 1200x360 with 1 Axes>"
            ],
            "image/png": "[encoded data removed]"
          },
          "metadata": {}
        }
      ],
      "metadata": {
        "colab": {
          "base_uri": "https://localhost:8080/",
          "height": 486
        },
        "id": "k2BS5CD69fIU",
        "outputId": "242c06c1-60f6-468e-b738-47c79d3c35fa"
      }
    },
    {
      "cell_type": "code",
      "source": [
        "# Map original values to desired names\n",
        "gender_map = {-1: 'men', 1: 'women', 0: 'unknown'}\n",
        "\n",
        "# Replace values in the 'gender' column with the mapped names\n",
        "df['gender'] = df['gender'].replace(gender_map)\n",
        "\n",
        "# Calculate the count of each gender value\n",
        "gender_counts = df['gender'].value_counts()\n",
        "\n",
        "# color palette for bars\n",
        "colors = ['#3366FF', '#FF79B9', '#81ED79']\n",
        "\n",
        "# Create bar plot\n",
        "plt.figure(figsize=(10, 6))  # Adjust size as needed\n",
        "gender_counts.plot(kind='bar', color=colors)\n",
        "\n",
        "# Background color\n",
        "plt.gca().set_facecolor('#F0F0F0')\n",
        "\n",
        "# Set labels and title\n",
        "plt.xlabel('Gender')\n",
        "plt.ylabel('Count')\n",
        "plt.title('Count of Gender')\n",
        "\n",
        "# Show plot\n",
        "plt.show()"
      ],
      "metadata": {
        "colab": {
          "base_uri": "https://localhost:8080/",
          "height": 613
        },
        "id": "Y9ia85ErbIKQ",
        "outputId": "b26cda32-9160-4889-8038-0a9860faa0a5"
      },
      "execution_count": null,
      "outputs": [
        {
          "output_type": "display_data",
          "data": {
            "text/plain": [
              "<Figure size 1000x600 with 1 Axes>"
            ],
            "image/png": "[encoded data removed]"
          },
          "metadata": {}
        }
      ]
    },
    {
      "cell_type": "code",
      "source": [
        "# Strip leading and trailing whitespace from the 'sentiment' column\n",
        "#(because we had both values \"p \" and \"p\" as a mistake )\n",
        "df['sentiment'] = df['sentiment'].str.strip()\n",
        "\n",
        "# Calculate the count of each sentiment value\n",
        "sentiment_counts = df['sentiment'].value_counts()\n",
        "\n",
        "# color palette for bars\n",
        "sentimentcolors = ['#db281f', '#5fe053', '#f5e556']\n",
        "\n",
        "# Create bar plot\n",
        "plt.figure(figsize=(10, 6))\n",
        "sentiment_counts.plot(kind='bar', color=sentimentcolors)\n",
        "\n",
        "# Background color\n",
        "plt.gca().set_facecolor('#F0F0F0')\n",
        "\n",
        "# Set labels and title\n",
        "plt.xlabel('Sentiment')\n",
        "plt.ylabel('Count')\n",
        "plt.title('Count of Sentiments')\n",
        "\n",
        "# Show plot\n",
        "plt.show()"
      ],
      "metadata": {
        "colab": {
          "base_uri": "https://localhost:8080/",
          "height": 559
        },
        "id": "y8lWWI2NhOin",
        "outputId": "8a2e9146-1624-46ed-951d-a43941e24f1f"
      },
      "execution_count": null,
      "outputs": [
        {
          "output_type": "display_data",
          "data": {
            "text/plain": [
              "<Figure size 1000x600 with 1 Axes>"
            ],
            "image/png": "[encoded data removed]"
          },
          "metadata": {}
        }
      ]
    },
    {
      "cell_type": "markdown",
      "source": [
        "# Correlation\n",
        "\n",
        "Here are the calculations of chi-square value between different variables."
      ],
      "metadata": {
        "id": "xugR52ASMmDF"
      }
    },
    {
      "cell_type": "code",
      "source": [
        "#Import libraries\n",
        "from sklearn import datasets\n",
        "from sklearn.model_selection import train_test_split\n",
        "from sklearn.linear_model import LogisticRegression\n",
        "from sklearn.svm import SVC\n",
        "from sklearn.ensemble import RandomForestClassifier\n",
        "from scipy.stats import chi2_contingency\n",
        "\n",
        "import numpy as np"
      ],
      "metadata": {
        "id": "UUl1vS7cPLpe"
      },
      "execution_count": null,
      "outputs": []
    },
    {
      "cell_type": "markdown",
      "source": [
        "Gender and sentiment:"
      ],
      "metadata": {
        "id": "n4JnghplOoSS"
      }
    },
    {
      "cell_type": "code",
      "source": [
        "# Contingency table of gender and sentiment\n",
        "crosstab = pd.crosstab(df['gender'], df['sentiment'])\n",
        "\n",
        "# Perform chi-square test for independence\n",
        "chi2, p, dof, expected = chi2_contingency(crosstab)\n",
        "\n",
        "print(\"Chi-square statistic:\", chi2)\n",
        "print(\"p-value:\", p)"
      ],
      "metadata": {
        "colab": {
          "base_uri": "https://localhost:8080/"
        },
        "id": "EpXzsUnMRpQ_",
        "outputId": "95617e28-c64e-44a2-f552-b0f0817722a0"
      },
      "execution_count": null,
      "outputs": [
        {
          "output_type": "stream",
          "name": "stdout",
          "text": [
            "Chi-square statistic: 66.99009251993174\n",
            "p-value: 1.6909646713563267e-12\n"
          ]
        }
      ]
    },
    {
      "cell_type": "markdown",
      "source": [
        "Followers and sentiment:"
      ],
      "metadata": {
        "id": "cNyT6bfxOqpL"
      }
    },
    {
      "cell_type": "code",
      "source": [
        "# Contingency table of gender and sentiment\n",
        "crosstab = pd.crosstab(df['sentiment'], df['followers'])\n",
        "\n",
        "# Perform chi-square test for independence\n",
        "chi2, p, dof, expected = chi2_contingency(crosstab)\n",
        "\n",
        "print(\"Chi-square statistic:\", chi2)\n",
        "print(\"p-value:\", p)"
      ],
      "metadata": {
        "colab": {
          "base_uri": "https://localhost:8080/"
        },
        "id": "ty06Yx78OZEe",
        "outputId": "818d40a3-5d24-4bea-a939-75795865a000"
      },
      "execution_count": null,
      "outputs": [
        {
          "output_type": "stream",
          "name": "stdout",
          "text": [
            "Chi-square statistic: 842.236883308963\n",
            "p-value: 0.10507162556571552\n"
          ]
        }
      ]
    },
    {
      "cell_type": "markdown",
      "source": [
        "Followers and gender:"
      ],
      "metadata": {
        "id": "WVK1UIudO4QL"
      }
    },
    {
      "cell_type": "code",
      "source": [
        "# Contingency table of gender and sentiment\n",
        "crosstab = pd.crosstab(df['gender'], df['followers'])\n",
        "\n",
        "# Perform chi-square test for independence\n",
        "chi2, p, dof, expected = chi2_contingency(crosstab)\n",
        "\n",
        "print(\"Chi-square statistic:\", chi2)\n",
        "print(\"p-value:\", p)"
      ],
      "metadata": {
        "colab": {
          "base_uri": "https://localhost:8080/"
        },
        "id": "8vMQc_WFOtS4",
        "outputId": "70716208-219c-495b-d111-426768fdcb18"
      },
      "execution_count": null,
      "outputs": [
        {
          "output_type": "stream",
          "name": "stdout",
          "text": [
            "Chi-square statistic: 803.4027125783332\n",
            "p-value: 0.38137480360344655\n"
          ]
        }
      ]
    },
    {
      "cell_type": "markdown",
      "source": [
        "Gender and length of comments"
      ],
      "metadata": {
        "id": "vSnB0g1qQfKx"
      }
    },
    {
      "cell_type": "code",
      "source": [
        "import pandas as pd\n",
        "from scipy.stats import chi2_contingency\n",
        "\n",
        "# Function defining categories for comment lengths\n",
        "def categorize_comment_length(comment):\n",
        "    if len(comment) < 30:\n",
        "        return 'Short'\n",
        "    elif 30 <= len(comment) < 70:\n",
        "        return 'Medium'\n",
        "    else:\n",
        "        return 'Long'\n",
        "\n",
        "df['comment_length_category'] = df['comment'].apply(categorize_comment_length)\n",
        "\n",
        "# Contingency table of 'sentiment' and 'comment_length_category'\n",
        "contingency_table = pd.crosstab(df['sentiment'], df['comment_length_category'])\n",
        "\n",
        "# chi-square test of independence\n",
        "chi2, p, dof, expected = chi2_contingency(contingency_table)\n",
        "\n",
        "print(\"Chi-square statistic:\", chi2)\n",
        "print(\"p-value:\", p)\n",
        "print(\"Expected frequencies:\\n\", expected)"
      ],
      "metadata": {
        "colab": {
          "base_uri": "https://localhost:8080/",
          "height": 211
        },
        "id": "aFJFVzE5QkAr",
        "outputId": "6da88d8b-476b-4787-8473-a1f913fafba7"
      },
      "execution_count": null,
      "outputs": [
        {
          "output_type": "error",
          "ename": "NameError",
          "evalue": "name 'df' is not defined",
          "traceback": [
            "\u001b[0;31m---------------------------------------------------------------------------\u001b[0m",
            "\u001b[0;31mNameError\u001b[0m                                 Traceback (most recent call last)",
            "\u001b[0;32m<ipython-input-1-e33d7db35b92>\u001b[0m in \u001b[0;36m<cell line: 13>\u001b[0;34m()\u001b[0m\n\u001b[1;32m     11\u001b[0m         \u001b[0;32mreturn\u001b[0m \u001b[0;34m'Long'\u001b[0m\u001b[0;34m\u001b[0m\u001b[0;34m\u001b[0m\u001b[0m\n\u001b[1;32m     12\u001b[0m \u001b[0;34m\u001b[0m\u001b[0m\n\u001b[0;32m---> 13\u001b[0;31m \u001b[0mdf\u001b[0m\u001b[0;34m[\u001b[0m\u001b[0;34m'comment_length_category'\u001b[0m\u001b[0;34m]\u001b[0m \u001b[0;34m=\u001b[0m \u001b[0mdf\u001b[0m\u001b[0;34m[\u001b[0m\u001b[0;34m'comment'\u001b[0m\u001b[0;34m]\u001b[0m\u001b[0;34m.\u001b[0m\u001b[0mapply\u001b[0m\u001b[0;34m(\u001b[0m\u001b[0mcategorize_comment_length\u001b[0m\u001b[0;34m)\u001b[0m\u001b[0;34m\u001b[0m\u001b[0;34m\u001b[0m\u001b[0m\n\u001b[0m\u001b[1;32m     14\u001b[0m \u001b[0;34m\u001b[0m\u001b[0m\n\u001b[1;32m     15\u001b[0m \u001b[0;31m# Contingency table of 'sentiment' and 'comment_length_category'\u001b[0m\u001b[0;34m\u001b[0m\u001b[0;34m\u001b[0m\u001b[0m\n",
            "\u001b[0;31mNameError\u001b[0m: name 'df' is not defined"
          ]
        }
      ]
    },
    {
      "cell_type": "markdown",
      "source": [],
      "metadata": {
        "id": "w6m6u59cU1b0"
      }
    },
    {
      "cell_type": "code",
      "source": [
        "import seaborn as sns\n",
        "import matplotlib.pyplot as plt\n",
        "\n",
        "# Plot heatmap of observed frequencies\n",
        "plt.figure(figsize=(8, 6))\n",
        "sns.heatmap(contingency_table, annot=True, fmt=\"d\", cmap=\"Blues\")\n",
        "plt.title(\"Contingency Table: Sentiment vs Comment Length\")\n",
        "plt.xlabel(\"Comment Length\")\n",
        "plt.ylabel(\"Sentiment\")\n",
        "plt.show()"
      ],
      "metadata": {
        "colab": {
          "base_uri": "https://localhost:8080/",
          "height": 564
        },
        "id": "jOypjeUHTe2u",
        "outputId": "e44533bf-dec9-4e6b-c5ea-742e053a3de4"
      },
      "execution_count": null,
      "outputs": [
        {
          "output_type": "display_data",
          "data": {
            "text/plain": [
              "<Figure size 800x600 with 2 Axes>"
            ],
            "image/png": "[encoded data removed]"
          },
          "metadata": {}
        }
      ]
    }
  ]
}